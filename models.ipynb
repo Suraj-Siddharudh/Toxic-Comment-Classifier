{
 "cells": [
  {
   "cell_type": "code",
   "execution_count": 41,
   "metadata": {},
   "outputs": [],
   "source": [
    "# -*- coding: utf-8 -*-\n",
    "import re\n",
    "import matplotlib\n",
    "import numpy as np\n",
    "import matplotlib.pyplot as plt\n",
    "import pandas as pd\n",
    "from sklearn.model_selection import train_test_split\n",
    "from sklearn.feature_extraction.text import TfidfVectorizer\n",
    "from sklearn.naive_bayes import MultinomialNB\n",
    "from sklearn.metrics import accuracy_score\n",
    "from sklearn.multiclass import OneVsRestClassifier\n",
    "from sklearn.metrics import multilabel_confusion_matrix\n",
    "from sklearn.metrics import roc_auc_score\n",
    "from nltk.corpus import stopwords\n",
    "stop_words = set(stopwords.words('english'))\n",
    "from sklearn.svm import LinearSVC\n",
    "from sklearn.linear_model import LogisticRegression\n",
    "from sklearn.tree import DecisionTreeClassifier\n",
    "from sklearn.pipeline import Pipeline\n",
    "import seaborn as sns"
   ]
  },
  {
   "cell_type": "code",
   "execution_count": 30,
   "metadata": {},
   "outputs": [],
   "source": [
    "def distribution_check(dist_data): \n",
    "    print(dist_data['toxic'].value_counts(dropna=False))\n",
    "    print(dist_data['severe_toxic'].value_counts(dropna=False))\n",
    "    print(dist_data['obscene'].value_counts(dropna=False))\n",
    "    print(dist_data['threat'].value_counts(dropna=False))\n",
    "    print(dist_data['insult'].value_counts(dropna=False))\n",
    "    print(dist_data['identity_hate'].value_counts(dropna=False))\n",
    "    \n",
    "    rows_with_1 = dist_data.apply(lambda x: True if 1 in list(x) else False, axis=1)\n",
    "    num_rows = len(rows_with_1[rows_with_1 == True].index)\n",
    "    print(\"Number of Rows that has atleast 1 in any column: \", num_rows)"
   ]
  },
  {
   "cell_type": "code",
   "execution_count": 31,
   "metadata": {},
   "outputs": [],
   "source": [
    "train_data = pd.read_csv(\"./train.csv\", encoding=\"utf-8\")\n",
    "test_data = pd.read_csv(\"./test.csv\", encoding=\"utf-8\")"
   ]
  },
  {
   "cell_type": "code",
   "execution_count": 32,
   "metadata": {},
   "outputs": [],
   "source": [
    "X_train=train_data[\"comment_text\"]\n",
    "y_train=train_data.iloc[:,1:]\n",
    "X_test=test_data[\"comment_text\"]\n",
    "y_test=test_data.iloc[:,2:]"
   ]
  },
  {
   "cell_type": "code",
   "execution_count": 33,
   "metadata": {},
   "outputs": [
    {
     "name": "stdout",
     "output_type": "stream",
     "text": [
      "(143609,)\n",
      "(63612,)\n",
      "(143609, 6)\n",
      "(63612, 6)\n",
      "Index(['toxic', 'severe_toxic', 'obscene', 'threat', 'insult',\n",
      "       'identity_hate'],\n",
      "      dtype='object')\n",
      "Index(['toxic', 'severe_toxic', 'obscene', 'threat', 'insult',\n",
      "       'identity_hate'],\n",
      "      dtype='object')\n"
     ]
    }
   ],
   "source": [
    "print(X_train.shape)\n",
    "print(X_test.shape)\n",
    "print(y_train.shape)\n",
    "print(y_test.shape)\n",
    "\n",
    "print(y_train.columns)\n",
    "print(y_test.columns)"
   ]
  },
  {
   "cell_type": "code",
   "execution_count": 21,
   "metadata": {},
   "outputs": [
    {
     "name": "stdout",
     "output_type": "stream",
     "text": [
      "Training data\n",
      "0    129822\n",
      "1     13787\n",
      "Name: toxic, dtype: int64\n",
      "0    142182\n",
      "1      1427\n",
      "Name: severe_toxic, dtype: int64\n",
      "0    135995\n",
      "1      7614\n",
      "Name: obscene, dtype: int64\n",
      "0    143178\n",
      "1       431\n",
      "Name: threat, dtype: int64\n",
      "0    136541\n",
      "1      7068\n",
      "Name: insult, dtype: int64\n",
      "0    142350\n",
      "1      1259\n",
      "Name: identity_hate, dtype: int64\n",
      "Number of Rows that has atleast 1 in any column:  14618\n",
      "\n",
      "\n",
      "Testing data\n",
      "0    57522\n",
      "1     6090\n",
      "Name: toxic, dtype: int64\n",
      "0    63245\n",
      "1      367\n",
      "Name: severe_toxic, dtype: int64\n",
      "0    59921\n",
      "1     3691\n",
      "Name: obscene, dtype: int64\n",
      "0    63401\n",
      "1      211\n",
      "Name: threat, dtype: int64\n",
      "0    60185\n",
      "1     3427\n",
      "Name: insult, dtype: int64\n",
      "0    62900\n",
      "1      712\n",
      "Name: identity_hate, dtype: int64\n",
      "Number of Rows that has atleast 1 in any column:  6243\n"
     ]
    }
   ],
   "source": [
    "categories = ['toxic', 'severe_toxic', 'obscene', 'threat', 'insult', 'identity_hate']\n",
    "print(\"Training data\")\n",
    "distribution_check(y_train)\n",
    "print(\"\\n\\nTesting data\")\n",
    "distribution_check(y_test)"
   ]
  },
  {
   "cell_type": "code",
   "execution_count": 25,
   "metadata": {},
   "outputs": [],
   "source": [
    "def run(classifier,name):\n",
    "    prediction_final = pd.DataFrame(columns=['toxic', 'severe_toxic', 'obscene', 'threat', 'insult', 'identity_hate'])\n",
    "    for category in categories:\n",
    "        print('... Processing {}'.format(category))\n",
    "        # train the model using X_dtm & y\n",
    "        classifier.fit(X_train, y_train[category])\n",
    "        # compute the testing accuracy\n",
    "        prediction = classifier.predict(X_test)\n",
    "        prediction_final[category]=prediction\n",
    "        print('Test accuracy is {}'.format(accuracy_score(y_test[category], prediction)))\n",
    "    prediction_final.to_csv(name)"
   ]
  },
  {
   "cell_type": "code",
   "execution_count": 26,
   "metadata": {
    "scrolled": true
   },
   "outputs": [
    {
     "name": "stdout",
     "output_type": "stream",
     "text": [
      "... Processing toxic\n",
      "Test accuracy is 0.9224202980569703\n",
      "... Processing severe_toxic\n",
      "Test accuracy is 0.9942306483053512\n",
      "... Processing obscene\n",
      "Test accuracy is 0.9486103250958938\n",
      "... Processing threat\n",
      "Test accuracy is 0.9966830157831855\n",
      "... Processing insult\n",
      "Test accuracy is 0.9485946047915488\n",
      "... Processing identity_hate\n",
      "Test accuracy is 0.9888071433062944\n"
     ]
    }
   ],
   "source": [
    "NB_pipeline = Pipeline([\n",
    "                ('tfidf', TfidfVectorizer(stop_words=stop_words)),\n",
    "                ('clf', OneVsRestClassifier(MultinomialNB(\n",
    "                    fit_prior=True, class_prior=None))),\n",
    "            ])\n",
    "run(NB_pipeline,'naive_bayes.csv')"
   ]
  },
  {
   "cell_type": "code",
   "execution_count": 27,
   "metadata": {},
   "outputs": [
    {
     "name": "stdout",
     "output_type": "stream",
     "text": [
      "... Processing toxic\n",
      "Test accuracy is 0.9368358171414198\n",
      "... Processing severe_toxic\n",
      "Test accuracy is 0.99317738791423\n",
      "... Processing obscene\n",
      "Test accuracy is 0.9665629126579891\n",
      "... Processing threat\n",
      "Test accuracy is 0.9967301766962209\n",
      "... Processing insult\n",
      "Test accuracy is 0.9637804187889077\n",
      "... Processing identity_hate\n",
      "Test accuracy is 0.9901905300886625\n"
     ]
    }
   ],
   "source": [
    "LogReg_pipeline = Pipeline([\n",
    "                ('tfidf', TfidfVectorizer(stop_words=stop_words)),\n",
    "                ('clf', OneVsRestClassifier(LogisticRegression(solver='sag'), n_jobs=1)),\n",
    "            ])\n",
    "run(LogReg_pipeline,'Logistic_Regression.csv')"
   ]
  },
  {
   "cell_type": "code",
   "execution_count": 28,
   "metadata": {},
   "outputs": [
    {
     "name": "stdout",
     "output_type": "stream",
     "text": [
      "... Processing toxic\n",
      "Test accuracy is 0.9260045274476514\n",
      "... Processing severe_toxic\n",
      "Test accuracy is 0.992831541218638\n",
      "... Processing obscene\n",
      "Test accuracy is 0.963308809658555\n",
      "... Processing threat\n",
      "Test accuracy is 0.9967773376092561\n",
      "... Processing insult\n",
      "Test accuracy is 0.9614852543545243\n",
      "... Processing identity_hate\n",
      "Test accuracy is 0.9903477331321134\n"
     ]
    }
   ],
   "source": [
    "SVC_pipeline = Pipeline([\n",
    "                ('tfidf', TfidfVectorizer(stop_words=stop_words)),\n",
    "                ('clf', OneVsRestClassifier(LinearSVC(), n_jobs=1)),\n",
    "            ])\n",
    "run(SVC_pipeline,'svc.csv')"
   ]
  },
  {
   "cell_type": "code",
   "execution_count": 51,
   "metadata": {},
   "outputs": [
    {
     "name": "stdout",
     "output_type": "stream",
     "text": [
      "(63612, 7)\n",
      "(63612, 7)\n",
      "(63612, 7)\n",
      "(63612, 6)\n"
     ]
    }
   ],
   "source": [
    "def read_files(path):\n",
    "    data = pd.read_csv(path, encoding=\"utf-8\")\n",
    "    return data\n",
    "\n",
    "# bert_result = read_files(\"./test_results_3epoch_128_32_newdata_output.csv\")\n",
    "svc_result = read_files(\"./svc.csv\")\n",
    "lin_reg_result = read_files(\"./Logistic_Regression.csv\")\n",
    "naive_result = read_files(\"./naive_bayes.csv\")\n",
    "\n",
    "print(svc_result.shape)\n",
    "print(lin_reg_result.shape)\n",
    "print(naive_result.shape)\n",
    "print(y_test.shape)"
   ]
  },
  {
   "cell_type": "code",
   "execution_count": 35,
   "metadata": {},
   "outputs": [],
   "source": [
    "def calculate_metrics(cm):\n",
    "    result_metric = []\n",
    "    for entries in cm:\n",
    "        TP = entries[1][1]\n",
    "        FP = entries[1][0]\n",
    "        FN = entries[0][1]\n",
    "        TN = entries[0][0]\n",
    "#         Uncomment if you want the metrics to run for 0 prediction\n",
    "#         TP = entries[0][0]\n",
    "#         FP = entries[0][1]\n",
    "#         FN = entries[1][0]\n",
    "#         TN = entries[1][1]\n",
    "        # Precision\n",
    "        PPV = TP/(TP+FP)\n",
    "        # Sensitivity/ Recall\n",
    "        TPR = TP/(TP+FN)\n",
    "        # Specificity\n",
    "        TNR = TN/(TN+FP) \n",
    "        # Fall out or false positive rate\n",
    "        FPR = FP/(FP+TN)\n",
    "        # False discovery rate\n",
    "        FDR = FP/(TP+FP)\n",
    "        # Accuracy\n",
    "        ACC = (TP+TN)/(TP+FP+FN+TN)\n",
    "        # F1 Score\n",
    "        F1 = 2*((PPV*TPR)/(PPV+TPR))\n",
    "#     return PPV, TPR, ACC, F1\n",
    "        result_metric.append([PPV, TPR, ACC, F1])\n",
    "    return result_metric"
   ]
  },
  {
   "cell_type": "code",
   "execution_count": 80,
   "metadata": {},
   "outputs": [],
   "source": [
    "def ensemble(weight1, weight2, weight3, threshold):\n",
    "    en_data = y_test.copy()\n",
    "    total_weight = weight1 + weight2 + weight3\n",
    "    new_naive_result = naive_result.select_dtypes(exclude=['object']) * weight1\n",
    "    new_svc_result = svc_result.select_dtypes(exclude=['object']) * weight2\n",
    "    new_lin_result = lin_reg_result.select_dtypes(exclude=['object']) * weight3\n",
    "#     print(new_bert_result[:10])\n",
    "#     print(new_svc_result[:10])\n",
    "#     print(new_lin_result[:10])\n",
    "#     jai = new_bert_result.add(new_svc_result, fill_value=0)\n",
    "# #     print(pd.concat([new_bert_result,new_svc_result, new_lin_result]))\n",
    "#     print(jai.iloc[:10, 1:])\n",
    "#     en_data = jai.add(new_lin_result, fill_value=0)\n",
    "#     print(en_data.iloc[:10, 1:])\n",
    "    \n",
    "    col_names =  ['toxic', 'severe_toxic', 'obscene', 'threat', 'insult', 'identity_hate']\n",
    "    my_df  = pd.DataFrame(columns = col_names)\n",
    "    my_df['toxic'] = new_naive_result['toxic'] + new_svc_result['toxic'] + new_lin_result['toxic']\n",
    "    my_df['severe_toxic'] = new_naive_result['severe_toxic'] + new_svc_result['severe_toxic'] + new_lin_result['severe_toxic']\n",
    "    my_df['obscene'] = new_naive_result['obscene'] + new_svc_result['obscene'] + new_lin_result['obscene']\n",
    "    my_df['threat'] = new_naive_result['threat'] + new_svc_result['threat'] + new_lin_result['threat']\n",
    "    my_df['insult'] = new_naive_result['insult'] + new_svc_result['insult'] + new_lin_result['insult']\n",
    "    my_df['identity_hate'] = new_naive_result['identity_hate'] + svc_result['identity_hate'] + new_lin_result['identity_hate']\n",
    "\n",
    "\n",
    "    for i in col_names:\n",
    "        my_df[i]=my_df[i].apply(lambda x: 1 if float(x)>=threshold else 0)\n",
    "        \n",
    "#     for i in range(0, len(my_df.index)):\n",
    "#         for j in range(1, len(my_df.columns)):\n",
    "#             my_df.iloc[i, j] = 1 if my_df.iloc[i, j] >=0.5 else 0\n",
    "#             if my_df.iloc[i, j] >=0.5:\n",
    "#                 my_df.iloc[i, j] = 1\n",
    "#                 print(my_df.iloc[i, j])\n",
    "#     my_df['toxic'] = my_df['toxic'].astype(int)\n",
    "#     my_df['severe_toxic'] = my_df['severe_toxic'].astype(int)\n",
    "#     my_df['obscene'] = my_df['obscene'].astype(int)\n",
    "#     my_df['toxic'] = my_df['toxic'].astype(int)\n",
    "#     my_df['toxic'] = my_df['toxic'].astype(int)\n",
    "#     my_df['toxic'] = my_df['toxic'].astype(int)\n",
    "    \n",
    "\n",
    "    my_df[col_names] = my_df[col_names].applymap(np.int64)\n",
    "    cm = multilabel_confusion_matrix(y_test.iloc[:, :],my_df.iloc[:, :])\n",
    "    result_metric = calculate_metrics(cm)\n",
    "    for values in result_metric:\n",
    "        print(\"\\n\")\n",
    "        print (\"Precision\", values[0])\n",
    "        print (\"Recall\", values[1])\n",
    "        print (\"Accuracy\", values[2])\n",
    "        print (\"F1 score\", values[3]) \n",
    "#     print(roc_auc_score(y_test.iloc[:, :],my_df.iloc[:, :]))\n",
    "    print(\"\\n\")\n",
    "    for i in range(0,6):\n",
    "#         print(roc_auc_score(y_test.iloc[:, i],my_df.iloc[:, i-1]))\n",
    "        prin\n",
    "Precision 0.7883415435139574\n",
    "Recall 0.578433734939759\n",
    "Accuracy 0.9247311827t(roc_auc_score(y_test.iloc[:, i],my_df.iloc[:, i]))\n",
    "    return result_metric"
   ]
  },
  {
   "cell_type": "code",
   "execution_count": 37,
   "metadata": {},
   "outputs": [],
   "source": [
    "def hyper_parameter_tuning():\n",
    "    array = np.linspace(0,1,11)\n",
    "    print(array)\n",
    "    high = 0\n",
    "    parameter_set = None\n",
    "    with open(\"./hyper_tuning_result1_ver2.txt\", \"w\") as fp:\n",
    "        for i in array:\n",
    "            for j in array:\n",
    "                for k in array:\n",
    "                    for l in array[1:-2]:\n",
    "                        en_data = ensemble(i, j, k ,l)\n",
    "                        fp.write(str(i) +\" \"+ str(j) +\" \"+ str(k) +\" \"+str(l))\n",
    "                        fp.write(\"\\n\")\n",
    "                        for values in en_data:\n",
    "                            fp.write(\"\\n\")\n",
    "                            fp.write(\"Precision \"+str( values[0]))\n",
    "                            fp.write(\"\\n\")\n",
    "                            fp.write(\"Recall \"+str(  values[1]))\n",
    "                            fp.write(\"\\n\")\n",
    "                            fp.write(\"Accuracy \"+str(  values[2]))\n",
    "                            fp.write(\"\\n\")\n",
    "                            fp.write(\"F1 score \"+str(  values[3])) \n",
    "                            fp.write(\"\\n\")\n",
    "#                         fp.write(en_data[0][0])\n",
    "                        if en_data[0][0] >=high:\n",
    "                            high = en_data[0][0]\n",
    "                            parameter_set = (i, j, k ,l)\n",
    "        \n",
    "    return parameter_set\n",
    "\n"
   ]
  },
  {
   "cell_type": "markdown",
   "metadata": {},
   "source": [
    "The below code finds the optumum weights fr ensemble model by using grid search. This method call would run for 10 - 12 hours. At the end of our run, we see that the optimum weights for the ensemble model are: 0.2, 0.8, 0.6, 0.5"
   ]
  },
  {
   "cell_type": "code",
   "execution_count": null,
   "metadata": {},
   "outputs": [],
   "source": [
    "# parameter_set = hyper_parameter_tuning()"
   ]
  },
  {
   "cell_type": "code",
   "execution_count": 79,
   "metadata": {},
   "outputs": [
    {
     "name": "stdout",
     "output_type": "stream",
     "text": [
      "\n",
      "\n",
      "Precision 0.7875205254515599\n",
      "Recall 0.5797872340425532\n",
      "Accuracy 0.9250141482739106\n",
      "F1 score 0.667873555215151\n",
      "\n",
      "\n",
      "Precision 0.3814713896457766\n",
      "Recall 0.3626943005181347\n",
      "Accuracy 0.9925642960447715\n",
      "F1 score 0.3718459495351926\n",
      "\n",
      "\n",
      "Precision 0.688160390138174\n",
      "Recall 0.6807826320021442\n",
      "Accuracy 0.9631830472237942\n",
      "F1 score 0.684451630288332\n",
      "\n",
      "\n",
      "Precision 0.33175355450236965\n",
      "Recall 0.5263157894736842\n",
      "Accuracy 0.9967930579136012\n",
      "F1 score 0.4069767441860465\n",
      "\n",
      "\n",
      "Precision 0.5949810329734462\n",
      "Recall 0.6585917312661499\n",
      "Accuracy 0.9615638558762498\n",
      "F1 score 0.6251724666564464\n",
      "\n",
      "\n",
      "Precision 0.3300561797752809\n",
      "Recall 0.6283422459893048\n",
      "Accuracy 0.9903162925234232\n",
      "F1 score 0.432780847145488\n",
      "0.7507485138123559\n",
      "\n",
      "\n",
      "0.8635457361098765\n",
      "0.6887908770507325\n",
      "0.8341421099236457\n",
      "0.6653799396618724\n",
      "0.7887092586982376\n",
      "0.6639231614297708\n"
     ]
    }
   ],
   "source": [
    "# en_data = ensemble(0.3, 0.8, 0.6, 0.6)\n",
    "en_data = ensemble(0.2, 0.8, 0.6, 0.6)"
   ]
  },
  {
   "cell_type": "code",
   "execution_count": 81,
   "metadata": {},
   "outputs": [
    {
     "name": "stderr",
     "output_type": "stream",
     "text": [
      "/home/trend-setter/.local/lib/python3.6/site-packages/matplotlib/figure.py:98: MatplotlibDeprecationWarning: \n",
      "Adding an axes using the same arguments as a previous axes currently reuses the earlier instance.  In a future version, a new instance will always be created and returned.  Meanwhile, this warning can be suppressed, and the future behavior ensured, by passing a unique label to each axes instance.\n",
      "  \"Adding an axes using the same arguments as a previous axes \"\n"
     ]
    },
    {
     "data": {
      "image/png": "[encoded data removed]",
      "text/plain": [
       "<Figure size 1440x720 with 1 Axes>"
      ]
     },
     "metadata": {
      "needs_background": "light"
     },
     "output_type": "display_data"
    }
   ],
   "source": [
    "def show_plot():\n",
    "    ind = [\"Precision\", \"Recall\", \"Accuracy\", \"F1\", \"AUC-ROC\"]\n",
    "    n_groups = 5\n",
    "    width = 0.15\n",
    "    bar_width = 0.15\n",
    "    index = np.arange(n_groups)\n",
    "    # fig, ax = plt.subplots()\n",
    "    nb = np.array([0.20,0.91,0.92,0.33,0.60])\n",
    "    svm = np.array([0.78,0.59,0.93,0.67,0.86])\n",
    "    lr = np.array([ 0.69, 0.66, 0.93, 0.68, 0.82])\n",
    "    ensemble = np.array([ 0.78, 0.62, 0.92, 0.69, 0.86])\n",
    "    bert = np.array([ 0.92, 0.60, 0.92, 0.72, 0.91])\n",
    "    bars5 = nb.tolist() + svm.tolist() + lr.tolist() + ensemble.tolist() + bert.tolist()\n",
    "    plt.figure(figsize=(20,10))\n",
    "\n",
    "    plt.bar(index, nb, bar_width, label='Naive Bayes', color='#6e4f5f')\n",
    "    plt.bar(index + width, svm, bar_width, label='SVM', color='#852524')\n",
    "    plt.bar(index + 2*width, lr, bar_width, label='Logistic Regression', color='#7d770f')\n",
    "    plt.bar(index + 3*width, ensemble, bar_width, label='Ensemble Learning', color='#138738')\n",
    "    plt.bar(index + 4*width, bert, bar_width, label='Bert', color='#edcf0e')\n",
    "    # plt.bar(ind, Content, width=0.6, label='Content', color='#ff884b', bottom=Advertising)\n",
    "    # plt.bar(ind, Advertising, width=0.6, label='Advertising', color='#45335c')\n",
    "    # plt.legend(loc='upper center', bbox_to_anchor=(0.5, -0.05), shadow=True, ncol=2)\n",
    "    plt.xticks(index + width, ind, rotation=0, fontsize = 14)\n",
    "    ax = plt.subplot(111)\n",
    "\n",
    "    totals = []\n",
    "    for i in ax.patches:\n",
    "        totals.append(i.get_height())\n",
    "\n",
    "    total = sum(totals)\n",
    "\n",
    "    for i in ax.patches:\n",
    "        # get_x pulls left or right; get_height pushes up or down\n",
    "        ax.text(i.get_x()-.005, i.get_height()+.007, \\\n",
    "                str(round(i.get_height(), 2)), fontsize=15,\n",
    "                    color='black')\n",
    "    # ax.plot(ind, label=ind)\n",
    "    # plt.legend(loc=\"upper right\")\n",
    "    ax.legend(loc='upper center', bbox_to_anchor=(0.5, -0.05), shadow=True, ncol=2, prop={'size': 20})\n",
    "\n",
    "    plt.tight_layout()\n",
    "    plt.savefig('comparison.png')\n",
    "    plt.show()\n",
    "\n",
    "show_plot()"
   ]
  },
  {
   "cell_type": "code",
   "execution_count": null,
   "metadata": {},
   "outputs": [],
   "source": []
  }
 ],
 "metadata": {
  "kernelspec": {
   "display_name": "Python 3",
   "language": "python",
   "name": "python3"
  },
  "language_info": {
   "codemirror_mode": {
    "name": "ipython",
    "version": 3
   },
   "file_extension": ".py",
   "mimetype": "text/x-python",
   "name": "python",
   "nbconvert_exporter": "python",
   "pygments_lexer": "ipython3",
   "version": "3.6.9"
  }
 },
 "nbformat": 4,
 "nbformat_minor": 2
}
